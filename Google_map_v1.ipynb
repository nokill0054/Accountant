{
  "nbformat": 4,
  "nbformat_minor": 0,
  "metadata": {
    "colab": {
      "name": "Google_map_v1.ipynb",
      "provenance": [],
      "authorship_tag": "ABX9TyO7uGcw2yfj9mAcYI/+kMZ9",
      "include_colab_link": true
    },
    "kernelspec": {
      "name": "python3",
      "display_name": "Python 3"
    },
    "language_info": {
      "name": "python"
    }
  },
  "cells": [
    {
      "cell_type": "markdown",
      "metadata": {
        "id": "view-in-github",
        "colab_type": "text"
      },
      "source": [
        "<a href=\"https://colab.research.google.com/github/nokill0054/Accountant/blob/master/Google_map_v1.ipynb\" target=\"_parent\"><img src=\"https://colab.research.google.com/assets/colab-badge.svg\" alt=\"Open In Colab\"/></a>"
      ]
    },
    {
      "cell_type": "code",
      "metadata": {
        "colab": {
          "base_uri": "https://localhost:8080/",
          "height": 367
        },
        "id": "E6GlBryCEZ0A",
        "outputId": "50410240-9d49-451d-d338-1736429da959"
      },
      "source": [
        "from bs4 import BeautifulSoup\n",
        "import requests\n",
        "from selenium import webdriver\n",
        "import time\n",
        "from selenium.webdriver.common.keys import Keys\n",
        "import pandas as pd\n",
        "\n",
        "\n",
        "driver_path = \"C:\\\\Users\\Bulent\\Desktop\\python webscraping\\selenium\\etsy\\chromedriver.exe\"\n",
        "browser = webdriver.Chrome(driver_path)\n",
        "\n",
        "Shop_name = input(\"Entering Trading Group : \")\n",
        "Shop_location = input(\"Entering Shop Location : \")\n",
        "\n",
        "\n",
        "\n",
        "headers_param = {\"User-Agent\":\"Mozilla/5.0 (Windows NT 10.0; Win64; x64) AppleWebKit/537.36 (KHTML, like Gecko) Chrome/90.0.4430.212 Safari/537.36\"}\n",
        "\n",
        "browser.get(\"https://www.google.com/maps\")\n",
        "\n",
        "shops_name_entering = browser.find_element_by_id(\"searchboxinput\")\n",
        "shops_name_entering.send_keys(Shop_name+ \" \"+ Shop_location)\n",
        "time.sleep(2)\n",
        "\n",
        "shops_name_entering.send_keys(Keys.ENTER)\n",
        "time.sleep(2)\n",
        "\n",
        "google_maps_click = browser.find_element_by_xpath(\"//*[@id='searchbox']/div[1]\")\n",
        "google_maps_click.click()\n",
        "time.sleep(4)\n",
        "\n",
        "shop_click = browser.find_element_by_css_selector(\"#pane > div > div.widget-pane-content.cYB2Ge-oHo7ed > div > div > div.section-layout.section-scrollbox.cYB2Ge-oHo7ed.cYB2Ge-ti6hGc.siAUzd-neVct-Q3DXx-BvBYQ > div.section-layout.section-scrollbox.cYB2Ge-oHo7ed.cYB2Ge-ti6hGc.siAUzd-neVct-Q3DXx-BvBYQ > div:nth-child(1) > div > a\").click() \n",
        "time.sleep(4)\n",
        "\n",
        "final_list = []\n",
        "\n",
        "shop_name = browser.find_element_by_xpath(\"/html/body/jsl/div[3]/div[9]/div[8]/div/div[1]/div/div/div[2]/div[1]/div[1]/div[1]/h1/span[1]\").text\n",
        "print(shop_name)\n",
        "\n",
        "shop_point = browser.find_element_by_class_name(\"aMPvhf-fI6EEc-KVuj8d\").text\n",
        "print(shop_point)\n",
        "\n",
        "shop_review = browser.find_element_by_class_name(\"widget-pane-link\").text\n",
        "print(shop_review)\n",
        "\n",
        "shop_group = browser.find_element_by_css_selector(\"#pane > div > div.widget-pane-content.cYB2Ge-oHo7ed > div > div > div.x3AX1-LfntMc-header-title > div.x3AX1-LfntMc-header-title-ma6Yeb-haAclf > div.x3AX1-LfntMc-header-title-ij8cu > div.x3AX1-LfntMc-header-title-ij8cu-haAclf > div > div:nth-child(2) > span.h0ySl-wcwwM-E70qVe > span:nth-child(1) > button\").text\n",
        "print(shop_group)\n",
        "\n",
        "shop_adr= browser.find_element_by_xpath(\"/html/body/jsl/div[3]/div[9]/div[8]/div/div[1]/div/div/div[9]/div[1]/button/div[1]/div[2]/div[1]\").text\n",
        "print(shop_adr)\n",
        "\n",
        "try:\n",
        "    shop_hours= browser.find_element_by_xpath(\"//*[@id='pane']/div/div[1]/div/div/div[9]/div[3]/div[2]\").text\n",
        "    print(shop_hours)\n",
        "except: pass\n",
        "\n",
        "shop_web = browser.find_element_by_css_selector(\"#pane > div > div.widget-pane-content.cYB2Ge-oHo7ed > div > div > div:nth-child(9) > div:nth-child(4) > button > div.AeaXub > div.rogA2c.HY5zDd > div.QSFF4-text.gm2-body-2\").text\n",
        "print(shop_web)\n",
        "\n",
        "shop_phone = browser.find_element_by_xpath('/html/body/jsl/div[3]/div[9]/div[8]/div/div[1]/div/div/div[9]/div[5]/button/div[1]/div[2]/div[1]').text\n",
        "print(shop_phone)\n",
        "\n",
        "\n",
        "\n",
        "\n",
        "for i in final_list:\n",
        "        \n",
        "     final_list.append([shop_name,shop_point,shop_review,shop_group,shop_adr,shop_hours,shop_web,shop_phone])\n",
        "     try:\n",
        "             df=pd.DataFrame({\"shop-name\":[i[0] for i in final_list],\n",
        "                            \"shop_point\":[i[1] for i in final_list],\n",
        "                            \"shop_review\":[i[2] for i in final_list],\n",
        "                            \"shop_group\":[i[3] for i in final_list],\n",
        "                            \"shop_adr\":[i[4] for i in final_list],\n",
        "                            \"shop_hours\":[i[5] for i in final_list],\n",
        "                            \"shop_web\":[i[6] for i in final_list],\n",
        "                            \"shop_phone\":[i[7] for i in final_list],\n",
        "                            \n",
        "                             })\n",
        "            \n",
        "             df.to_excel(\"google_maps1.xlsx\")\n",
        "\n",
        "     except:\n",
        "                print(\"not found\")\n",
        "\n",
        "\n",
        "\n"
      ],
      "execution_count": 2,
      "outputs": [
        {
          "output_type": "error",
          "ename": "ModuleNotFoundError",
          "evalue": "ignored",
          "traceback": [
            "\u001b[0;31m---------------------------------------------------------------------------\u001b[0m",
            "\u001b[0;31mModuleNotFoundError\u001b[0m                       Traceback (most recent call last)",
            "\u001b[0;32m<ipython-input-2-a7580d93bd74>\u001b[0m in \u001b[0;36m<module>\u001b[0;34m()\u001b[0m\n\u001b[1;32m      1\u001b[0m \u001b[0;32mfrom\u001b[0m \u001b[0mbs4\u001b[0m \u001b[0;32mimport\u001b[0m \u001b[0mBeautifulSoup\u001b[0m\u001b[0;34m\u001b[0m\u001b[0;34m\u001b[0m\u001b[0m\n\u001b[1;32m      2\u001b[0m \u001b[0;32mimport\u001b[0m \u001b[0mrequests\u001b[0m\u001b[0;34m\u001b[0m\u001b[0;34m\u001b[0m\u001b[0m\n\u001b[0;32m----> 3\u001b[0;31m \u001b[0;32mfrom\u001b[0m \u001b[0mselenium\u001b[0m \u001b[0;32mimport\u001b[0m \u001b[0mwebdriver\u001b[0m\u001b[0;34m\u001b[0m\u001b[0;34m\u001b[0m\u001b[0m\n\u001b[0m\u001b[1;32m      4\u001b[0m \u001b[0;32mimport\u001b[0m \u001b[0mtime\u001b[0m\u001b[0;34m\u001b[0m\u001b[0;34m\u001b[0m\u001b[0m\n\u001b[1;32m      5\u001b[0m \u001b[0;32mfrom\u001b[0m \u001b[0mselenium\u001b[0m\u001b[0;34m.\u001b[0m\u001b[0mwebdriver\u001b[0m\u001b[0;34m.\u001b[0m\u001b[0mcommon\u001b[0m\u001b[0;34m.\u001b[0m\u001b[0mkeys\u001b[0m \u001b[0;32mimport\u001b[0m \u001b[0mKeys\u001b[0m\u001b[0;34m\u001b[0m\u001b[0;34m\u001b[0m\u001b[0m\n",
            "\u001b[0;31mModuleNotFoundError\u001b[0m: No module named 'selenium'",
            "",
            "\u001b[0;31m---------------------------------------------------------------------------\u001b[0;32m\nNOTE: If your import is failing due to a missing package, you can\nmanually install dependencies using either !pip or !apt.\n\nTo view examples of installing some common dependencies, click the\n\"Open Examples\" button below.\n\u001b[0;31m---------------------------------------------------------------------------\u001b[0m\n"
          ]
        }
      ]
    }
  ]
}