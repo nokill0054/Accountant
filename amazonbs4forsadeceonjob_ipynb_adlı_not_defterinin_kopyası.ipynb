{
  "nbformat": 4,
  "nbformat_minor": 0,
  "metadata": {
    "colab": {
      "name": "amazonbs4forsadeceonjob.ipynb adlı not defterinin kopyası",
      "provenance": [],
      "authorship_tag": "ABX9TyPwN8FUlKW2UhqIJ1JNqtKx",
      "include_colab_link": true
    },
    "kernelspec": {
      "name": "python3",
      "display_name": "Python 3"
    },
    "language_info": {
      "name": "python"
    }
  },
  "cells": [
    {
      "cell_type": "markdown",
      "metadata": {
        "id": "view-in-github",
        "colab_type": "text"
      },
      "source": [
        "<a href=\"https://colab.research.google.com/github/nokill0054/Accountant/blob/master/amazonbs4forsadeceonjob_ipynb_adl%C4%B1_not_defterinin_kopyas%C4%B1.ipynb\" target=\"_parent\"><img src=\"https://colab.research.google.com/assets/colab-badge.svg\" alt=\"Open In Colab\"/></a>"
      ]
    },
    {
      "cell_type": "code",
      "metadata": {
        "id": "BpNGE6ozesDq"
      },
      "source": [
        "from bs4 import BeautifulSoup\n",
        "import requests\n",
        "import pandas as pd\n",
        "\n",
        "list=[]\n",
        "\n",
        "\n",
        "page=1\n",
        "page1=1\n",
        "ppn=2\n",
        "\n",
        "\n",
        "while page<=ppn:\n",
        "    \n",
        "     \n",
        "    headers_param = {\"User-Agent\":\"Mozilla/5.0 (Windows NT 10.0; Win64; x64) AppleWebKit/537.36 (KHTML, like Gecko) Chrome/91.0.4472.77 Safari/537.36\"} \n",
        "\n",
        "    #request ile websitesinin verilerini aldık\n",
        "    webdata = requests.get(\"https://www.amazon.com.tr/s?k=Bisküvi&i=grocery&page=\"+str(page)+\"&__mk_tr_TR=%C3%85M%C3%85%C5%BD%C3%95%C3%91&qid=1622285791&ref=sr_pg_\"+str(page1)+\"\",headers=headers_param)\n",
        "    #beautifulsoup lxml ile aldığımız content'i parçalıyoruz.\n",
        "    soup = BeautifulSoup(webdata.content,\"lxml\")\n",
        "    product = soup.find_all(\"div\" ,attrs = {\"class\" : \"s-result-item s-asin sg-col sg-col-6-of-12 sg-col-4-of-16 sg-col-4-of-20\"})\n",
        "    #ürün linkini almak için for döngüsüne sokulur link başı ve link sonu alınır birleştirilie ve yazdırılır.\n",
        "    \n",
        "      \n",
        "    \n",
        "    for details in product:\n",
        "        link_sonu = details.a.get(\"href\")\n",
        "        link_basi = \"https://www.amazon.com.tr\"\n",
        "        link = link_basi+link_sonu\n",
        "        print(link)\n",
        "     \n",
        "        \n",
        "    \n",
        "        webdata1 = requests.get(link,headers=headers_param)\n",
        "        #beautifulsoup lxml ile yeni aldığımız content'i parçalıyoruz.\n",
        "        soup1 = BeautifulSoup(webdata1.content,\"lxml\")\n",
        "        \n",
        "        main_desc = soup1.find_all(\"div\", attrs = {\"id\" : \"centerCol\"})\n",
        "       \n",
        "        \n",
        "        for prod in main_desc:\n",
        "            try:\n",
        "                product_brand = prod.find(\"a\", attrs = {\"id\" : \"bylineInfo\"}).text.strip()\n",
        "                print(product_brand)\n",
        "            except:\n",
        "                print(\"marka bulunamadı\")\n",
        "\n",
        "            try:\n",
        "                product_name = prod.find(\"span\", attrs = {\"id\" : \"productTitle\"}).text.strip()\n",
        "                print(product_name)\n",
        "            except:\n",
        "                print(\"ürün ismi bulunamadı\")\n",
        "\n",
        "            try:\n",
        "                product_price = prod.find(\"span\", attrs = {\"class\" : \"a-text-strike\"}).text.strip().replace(\"TL\",\"\")\n",
        "                print(product_price)\n",
        "            except:\n",
        "                print(\"ürün fiyatı bulunamadı\")\n",
        "\n",
        "            try:\n",
        "                discounted_price = prod.find(\"span\", attrs = {\"id\" : \"priceblock_ourprice\"}).text.strip().replace(\"TL\",\"\")\n",
        "                print(discounted_price)\n",
        "            except:\n",
        "                print(\"indirimli fiyat bulunamadı\")\n",
        "\n",
        "        main_desc1 = soup1.find_all(\"table\", attrs = {\"class\" : \"a-normal a-spacing-micro\"})\n",
        "        for prod1 in main_desc1:\n",
        "            prod2 = prod1.find_all(\"td\", attrs = {\"class\" : \"a-span9\"})\n",
        "            for product_brand1 in prod2:\n",
        "                try:\n",
        "                    product_brand_2 = product_brand1.find(\"span\", attrs = {\"class\" : \"a-size-base\"}).text.strip().replace(\"\\n\",\"\")\n",
        "                    print(product_brand_2)\n",
        "                except:\n",
        "                    print(\"ürün içeriği bulunamadı\")        \n",
        "            product_desc2 = soup1.find_all(\"div\", attrs = {\"id\" : \"productDescription\"})\n",
        "            for prod_info in product_desc2:\n",
        "                try: \n",
        "                    print(prod_info.text.strip().replace(\"\\n\",\"\"))     \n",
        "                except:\n",
        "                    print(\"ürün açıklaması bulunamadı\")  \n",
        "        \n",
        "    \n",
        "        list.append([product_brand,product_name,product_price,discounted_price,product_brand_2,prod_info])\n",
        "    \n",
        "    page = page+1\n",
        "        \n",
        "                \n",
        "\n",
        "        \n",
        "\n",
        "    \n",
        "\n",
        "    "
      ],
      "execution_count": null,
      "outputs": []
    },
    {
      "cell_type": "code",
      "metadata": {
        "id": "FgQFC_1sf7Qk"
      },
      "source": [
        ""
      ],
      "execution_count": null,
      "outputs": []
    },
    {
      "cell_type": "code",
      "metadata": {
        "id": "SqCKu5Vhf7sn"
      },
      "source": [
        ""
      ],
      "execution_count": null,
      "outputs": []
    },
    {
      "cell_type": "markdown",
      "metadata": {
        "id": "8YPro7yne8YJ"
      },
      "source": [
        ""
      ]
    },
    {
      "cell_type": "markdown",
      "metadata": {
        "id": "1QbMhRGee9P2"
      },
      "source": [
        ""
      ]
    },
    {
      "cell_type": "code",
      "metadata": {
        "id": "CbXwxIPve9sA"
      },
      "source": [
        ""
      ],
      "execution_count": null,
      "outputs": []
    },
    {
      "cell_type": "code",
      "metadata": {
        "id": "CHlBHIfee94z"
      },
      "source": [
        ""
      ],
      "execution_count": null,
      "outputs": []
    },
    {
      "cell_type": "code",
      "metadata": {
        "id": "bT8vw8lue05h"
      },
      "source": [
        ""
      ],
      "execution_count": null,
      "outputs": []
    },
    {
      "cell_type": "code",
      "metadata": {
        "id": "Hl9PN8fIe1Yl"
      },
      "source": [
        ""
      ],
      "execution_count": null,
      "outputs": []
    }
  ]
}