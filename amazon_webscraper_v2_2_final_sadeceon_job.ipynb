{
  "nbformat": 4,
  "nbformat_minor": 0,
  "metadata": {
    "colab": {
      "name": "amazon_webscraper_v2.2_final_sadeceon_job.ipynb",
      "provenance": [],
      "collapsed_sections": [],
      "authorship_tag": "ABX9TyOLt1A67NpBhcbBaKzdsFnJ",
      "include_colab_link": true
    },
    "kernelspec": {
      "name": "python3",
      "display_name": "Python 3"
    },
    "language_info": {
      "name": "python"
    }
  },
  "cells": [
    {
      "cell_type": "markdown",
      "metadata": {
        "id": "view-in-github",
        "colab_type": "text"
      },
      "source": [
        "<a href=\"https://colab.research.google.com/github/nokill0054/Accountant/blob/master/amazon_webscraper_v2_2_final_sadeceon_job.ipynb\" target=\"_parent\"><img src=\"https://colab.research.google.com/assets/colab-badge.svg\" alt=\"Open In Colab\"/></a>"
      ]
    },
    {
      "cell_type": "code",
      "metadata": {
        "colab": {
          "base_uri": "https://localhost:8080/",
          "height": 282
        },
        "id": "bb0KeiSXCCaF",
        "outputId": "a34fc9f0-cfec-4c2d-a6a8-87bcd51329a1"
      },
      "source": [
        "from bs4 import BeautifulSoup\n",
        "from lxml import etree\n",
        "import requests\n",
        "import pandas as pd\n",
        "\n",
        "list=[]\n",
        "\n",
        "\n",
        "page=1\n",
        "page1=1\n",
        "ppn=400\n",
        "\n",
        "\n",
        "while page<=ppn:\n",
        "    \n",
        "    \n",
        "     \n",
        "    headers_param = {\"User-Agent\":\"Mozilla/5.0 (Windows NT 10.0; Win64; x64) AppleWebKit/537.36 (KHTML, like Gecko) Chrome/90.0.4430.212 Safari/537.36\"} \n",
        "\n",
        "    #request ile websitesinin verilerini aldık\n",
        "    webdata = requests.get(\"https://www.amazon.com.tr/s?i=grocery&rh=n%3A21680147031&fs=true&page=\"+str(page)+\"&qid=1623175125&ref=sr_pg_\"+str(page1)+\"\",headers=headers_param)\n",
        "    #beautifulsoup lxml ile aldığımız content'i parçalıyoruz.\n",
        "    soup = BeautifulSoup(webdata.content,\"lxml\")\n",
        "    product = soup.find_all(\"div\" ,attrs = {\"class\" : \"sg-col-4-of-12 s-result-item s-asin sg-col-4-of-16 sg-col sg-col-4-of-20\"})\n",
        "    #ürün linkini almak için for döngüsüne sokulur link başı ve link sonu alınır birleştirilie ve yazdırılır.\n",
        "   \n",
        "      \n",
        "    \n",
        "    for details in product:\n",
        "        link_sonu = details.a.get(\"href\")\n",
        "        link_basi = \"https://www.amazon.com.tr\"\n",
        "        link = link_basi+link_sonu\n",
        "        print(link)\n",
        "     \n",
        "        \n",
        "    \n",
        "        webdata1 = requests.get(link,headers=headers_param)\n",
        "        #beautifulsoup lxml ile yeni aldığımız content'i parçalıyoruz.\n",
        "        soup1 = BeautifulSoup(webdata1.content,\"lxml\")\n",
        "        \n",
        "        main_desc = soup1.find_all(\"div\", attrs = {\"id\" : \"centerCol\"})\n",
        "       \n",
        "        \n",
        "        for prod in main_desc:\n",
        "            try:\n",
        "                product_brand = prod.find(\"a\", attrs = {\"id\" : \"bylineInfo\"}).text.strip()\n",
        "                print(product_brand)\n",
        "            except:\n",
        "                print(\"marka bulunamadı\")\n",
        "\n",
        "            try:\n",
        "                product_name = prod.find(\"span\", attrs = {\"id\" : \"productTitle\"}).text.strip()\n",
        "                print(product_name)\n",
        "            except:\n",
        "                print(\"ürün ismi bulunamadı\")\n",
        "\n",
        "            #try:\n",
        "                #product_price = prod.find(\"span\", attrs = {\"class\" : \"a-text-strike\"}).text.strip().replace(\"TL\",\"\")\n",
        "                #print(product_price)\n",
        "            #except:\n",
        "                #print(\"ürün fiyatı bulunamadı\")\n",
        "\n",
        "            try:\n",
        "                discounted_price = prod.find(\"span\", attrs = {\"id\" : \"priceblock_ourprice\"}).text.strip().replace(\"TL\",\"\")\n",
        "                print(discounted_price)\n",
        "            except:\n",
        "                print(\"indirimli fiyat bulunamadı\")\n",
        "\n",
        "            try:               \n",
        "                product_desc2 = soup1.find(\"div\", attrs = {\"id\":\"productDescription\"})\n",
        "                #//*[@id=\"descriptionAndDetails\"]\n",
        "               # print(f\"main Div = {product_desc2}\")\n",
        "\n",
        "                #for prod_info in product_desc2:\n",
        "                text_in_description = (product_desc2).text.strip()\n",
        "                print(text_in_description)\n",
        "           except:\n",
        "                print(\"ürün açıklamsı bulunamadı.\")\n",
        "    \n",
        "    list.append([product_brand,product_name,discounted_price,text_in_description])\n",
        "    page = page+1"
      ],
      "execution_count": null,
      "outputs": [
        {
          "output_type": "stream",
          "text": [
            "marka bulunamadı\n",
            "Acı Çikolata: İçinde Yemek Tarifleri, Aşk Öyküleri ve Kocakarı İlaçları Bulunan Roman\n",
            "indirimli fiyat bulunamadı\n"
          ],
          "name": "stdout"
        },
        {
          "output_type": "error",
          "ename": "AttributeError",
          "evalue": "ignored",
          "traceback": [
            "\u001b[0;31m---------------------------------------------------------------------------\u001b[0m",
            "\u001b[0;31mAttributeError\u001b[0m                            Traceback (most recent call last)",
            "\u001b[0;32m<ipython-input-1-e1b1cb83f814>\u001b[0m in \u001b[0;36m<module>\u001b[0;34m()\u001b[0m\n\u001b[1;32m     72\u001b[0m \u001b[0;34m\u001b[0m\u001b[0m\n\u001b[1;32m     73\u001b[0m             \u001b[0;31m#for prod_info in product_desc2:\u001b[0m\u001b[0;34m\u001b[0m\u001b[0;34m\u001b[0m\u001b[0;34m\u001b[0m\u001b[0m\n\u001b[0;32m---> 74\u001b[0;31m             \u001b[0mtext_in_description\u001b[0m \u001b[0;34m=\u001b[0m \u001b[0;34m(\u001b[0m\u001b[0mproduct_desc2\u001b[0m\u001b[0;34m)\u001b[0m\u001b[0;34m.\u001b[0m\u001b[0mtext\u001b[0m\u001b[0;34m\u001b[0m\u001b[0;34m\u001b[0m\u001b[0m\n\u001b[0m\u001b[1;32m     75\u001b[0m             \u001b[0;32mtry\u001b[0m\u001b[0;34m:\u001b[0m\u001b[0;34m\u001b[0m\u001b[0;34m\u001b[0m\u001b[0m\n\u001b[1;32m     76\u001b[0m                 \u001b[0mprint\u001b[0m\u001b[0;34m(\u001b[0m\u001b[0mtext_in_description\u001b[0m\u001b[0;34m)\u001b[0m\u001b[0;34m\u001b[0m\u001b[0;34m\u001b[0m\u001b[0m\n",
            "\u001b[0;31mAttributeError\u001b[0m: 'NoneType' object has no attribute 'text'"
          ]
        }
      ]
    }
  ]
}